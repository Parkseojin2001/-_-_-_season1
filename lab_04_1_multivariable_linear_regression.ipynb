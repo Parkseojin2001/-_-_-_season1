{
  "nbformat": 4,
  "nbformat_minor": 0,
  "metadata": {
    "colab": {
      "provenance": [],
      "authorship_tag": "ABX9TyP7EtK9fBtIl8+pcz9TQzjU",
      "include_colab_link": true
    },
    "kernelspec": {
      "name": "python3",
      "display_name": "Python 3"
    },
    "language_info": {
      "name": "python"
    }
  },
  "cells": [
    {
      "cell_type": "markdown",
      "metadata": {
        "id": "view-in-github",
        "colab_type": "text"
      },
      "source": [
        "<a href=\"https://colab.research.google.com/github/Parkseojin2001/DeepLearningZeroToAll/blob/main/lab_04_1_multivariable_linear_regression.ipynb\" target=\"_parent\"><img src=\"https://colab.research.google.com/assets/colab-badge.svg\" alt=\"Open In Colab\"/></a>"
      ]
    },
    {
      "cell_type": "markdown",
      "source": [
        "# Multivariate Linear Regression"
      ],
      "metadata": {
        "id": "6nLlOLvnPeYW"
      }
    },
    {
      "cell_type": "code",
      "source": [
        "import torch\n",
        "import torch.nn as nn\n",
        "import torch.nn.functional as F\n",
        "import torch.optim as optim"
      ],
      "metadata": {
        "id": "NfrBISr1P8OM"
      },
      "execution_count": 1,
      "outputs": []
    },
    {
      "cell_type": "code",
      "source": [
        "x1_train = torch.FloatTensor([[73], [93], [89], [96], [73]])\n",
        "x2_train = torch.FloatTensor([[80], [88], [91], [98], [66]])\n",
        "x3_train = torch.FloatTensor([[75], [93], [90], [100], [70]])\n",
        "y_train = torch.FloatTensor([[152], [185], [180], [196], [142]])"
      ],
      "metadata": {
        "id": "iBAQ4_PbrUVL"
      },
      "execution_count": 3,
      "outputs": []
    },
    {
      "cell_type": "markdown",
      "source": [
        "## Hypothesis Function: Naive\n",
        "\n",
        "$$H(x) = w_1x_1 + w_2x_2 + w_3x_3 + b$$\n",
        "\n",
        "- 입력 변수 n개이면 weight(가중치)도 n개이다."
      ],
      "metadata": {
        "id": "nI1dR1BxP7qb"
      }
    },
    {
      "cell_type": "code",
      "source": [
        "w1 = torch.zeros(1, requires_grad = True)\n",
        "w2 = torch.zeros(1, requires_grad = True)\n",
        "w3 = torch.zeros(1, requires_grad = True)\n",
        "b =  torch.zeros(1, requires_grad = True)"
      ],
      "metadata": {
        "id": "g7hqOQpPr2zd"
      },
      "execution_count": 5,
      "outputs": []
    },
    {
      "cell_type": "code",
      "execution_count": 6,
      "metadata": {
        "id": "YULe4PlnO91r"
      },
      "outputs": [],
      "source": [
        "# H(x) 계산\n",
        "hypothesis = x1_train * w1 + x2_train * w2 + x3_train * w3 + b"
      ]
    },
    {
      "cell_type": "markdown",
      "source": [
        "## Hypothesis Function: Matrix\n",
        "\n",
        "- matmul( )로 한 번에 계산\n",
        "  \n",
        "  a. 더 간결\n",
        "\n",
        "  b. x의 길이가 바뀌어도 코드 변경 x\n",
        "\n",
        "  c. 속도가 더 빠름\n",
        "\n",
        "  $$ H(x) = Wx + b$$"
      ],
      "metadata": {
        "id": "zsM6QSeFtuy4"
      }
    },
    {
      "cell_type": "code",
      "source": [
        "x_train = torch.FloatTensor([[73, 80, 75],\n",
        "                             [93, 88, 93],\n",
        "                             [89, 91, 90],\n",
        "                             [96, 98, 100],\n",
        "                             [73, 66, 70]])\n",
        "y_train = torch.FloatTensor([[152], [185], [180], [196], [142]])"
      ],
      "metadata": {
        "id": "Ufzk8irFugpi"
      },
      "execution_count": 9,
      "outputs": []
    },
    {
      "cell_type": "code",
      "source": [
        "W = torch.zeros((3, 1), requires_grad = True)\n",
        "b = torch.zeros(1, requires_grad = True)"
      ],
      "metadata": {
        "id": "ebbpp2Q9sPBY"
      },
      "execution_count": 8,
      "outputs": []
    },
    {
      "cell_type": "code",
      "source": [
        "# H(x) 계산\n",
        "hypothesis = x_train.matmul(W) + b"
      ],
      "metadata": {
        "id": "fD33Kw2vuRqA"
      },
      "execution_count": 10,
      "outputs": []
    },
    {
      "cell_type": "markdown",
      "source": [
        "## Cost function: MSE\n",
        "\n",
        "- Simple Linear Regression과 동일\n",
        "\n",
        "$$cost(W) = \\frac 1m \\sum_{i = 1}^{m} (H(x^{(i)}) - y^{(i)})^2$$"
      ],
      "metadata": {
        "id": "iD9dmjiNukSq"
      }
    },
    {
      "cell_type": "code",
      "source": [
        "cost = torch.mean((hypothesis - y_train) ** 2)"
      ],
      "metadata": {
        "id": "ap1lMSb-ujID"
      },
      "execution_count": 11,
      "outputs": []
    },
    {
      "cell_type": "markdown",
      "source": [
        "## Gradient Descent with torch.optim\n",
        "\n",
        "$$\\nabla W = \\frac{\\partial cost}{\\partial W} = \\frac 2m \\sum_{i = 1}^{m} (Wx^{(i)} - y^{(i)})x^{(i)}$$\n",
        "\n",
        "$$ W := W - \\alpha \\nabla W$$"
      ],
      "metadata": {
        "id": "4Kv8nrTpu76L"
      }
    },
    {
      "cell_type": "code",
      "source": [
        "# optimizer 설정\n",
        "optimizer = optim.SGD([W, b], lr = 1e-5)\n",
        "\n",
        "# optimizer 사용법\n",
        "optimizer.zero_grad()\n",
        "cost.backward()\n",
        "optimizer.step()"
      ],
      "metadata": {
        "id": "50NGbBjpu6Tt"
      },
      "execution_count": 12,
      "outputs": []
    },
    {
      "cell_type": "markdown",
      "source": [
        "## Full Code with torch.optim"
      ],
      "metadata": {
        "id": "DLU0tkwmw1Cg"
      }
    },
    {
      "cell_type": "code",
      "source": [
        "# 데이터\n",
        "x_train = torch.FloatTensor([[73, 80, 75],\n",
        "                             [93, 88, 93],\n",
        "                             [89, 91, 90],\n",
        "                             [96, 98, 100],\n",
        "                             [73, 66, 70]])\n",
        "y_train = torch.FloatTensor([[152], [185], [180], [196], [142]])\n",
        "\n",
        "# 모델 초기화\n",
        "W = torch.zeros((3, 1), requires_grad = True)\n",
        "b = torch.zeros(1, requires_grad = True)\n",
        "\n",
        "# optimizer 설정\n",
        "optimizer = optim.SGD([W, b], lr = 1e-5)"
      ],
      "metadata": {
        "id": "zdMSR3gvwusN"
      },
      "execution_count": 13,
      "outputs": []
    },
    {
      "cell_type": "code",
      "source": [
        "nb_epochs= 20\n",
        "for epoch in range(nb_epochs + 1):\n",
        "\n",
        "  # H(x) 계산\n",
        "  hypothesis = x_train.matmul(W) + b # or.mm or @\n",
        "\n",
        "  # cost 계산\n",
        "  cost = torch.mean((hypothesis - y_train) ** 2)\n",
        "\n",
        "  # cost로 H(x) 개선\n",
        "  optimizer.zero_grad()\n",
        "  cost.backward()\n",
        "  optimizer.step()\n",
        "\n",
        "  print('Epoch {:4d}/{} hypothesis: {} Cost: {:.6f}'.format(epoch, nb_epochs,\n",
        "                                                            hypothesis.squeeze().detach(), cost.item()))"
      ],
      "metadata": {
        "colab": {
          "base_uri": "https://localhost:8080/"
        },
        "id": "96yRoEFz4D1u",
        "outputId": "0eefc680-447f-46bd-d324-99aae0d2c538"
      },
      "execution_count": 14,
      "outputs": [
        {
          "output_type": "stream",
          "name": "stdout",
          "text": [
            "Epoch    0/20 hypothesis: tensor([0., 0., 0., 0., 0.]) Cost: 29661.800781\n",
            "Epoch    1/20 hypothesis: tensor([67.2578, 80.8397, 79.6523, 86.7394, 61.6605]) Cost: 9298.520508\n",
            "Epoch    2/20 hypothesis: tensor([104.9128, 126.0990, 124.2466, 135.3015,  96.1821]) Cost: 2915.712402\n",
            "Epoch    3/20 hypothesis: tensor([125.9942, 151.4381, 149.2133, 162.4896, 115.5097]) Cost: 915.040527\n",
            "Epoch    4/20 hypothesis: tensor([137.7967, 165.6247, 163.1911, 177.7112, 126.3307]) Cost: 287.936096\n",
            "Epoch    5/20 hypothesis: tensor([144.4044, 173.5674, 171.0168, 186.2332, 132.3891]) Cost: 91.371063\n",
            "Epoch    6/20 hypothesis: tensor([148.1035, 178.0143, 175.3980, 191.0042, 135.7812]) Cost: 29.758249\n",
            "Epoch    7/20 hypothesis: tensor([150.1744, 180.5042, 177.8509, 193.6753, 137.6805]) Cost: 10.445267\n",
            "Epoch    8/20 hypothesis: tensor([151.3336, 181.8983, 179.2240, 195.1707, 138.7440]) Cost: 4.391237\n",
            "Epoch    9/20 hypothesis: tensor([151.9824, 182.6789, 179.9928, 196.0079, 139.3396]) Cost: 2.493121\n",
            "Epoch   10/20 hypothesis: tensor([152.3454, 183.1161, 180.4231, 196.4765, 139.6732]) Cost: 1.897688\n",
            "Epoch   11/20 hypothesis: tensor([152.5485, 183.3609, 180.6640, 196.7389, 139.8602]) Cost: 1.710552\n",
            "Epoch   12/20 hypothesis: tensor([152.6620, 183.4982, 180.7988, 196.8857, 139.9651]) Cost: 1.651416\n",
            "Epoch   13/20 hypothesis: tensor([152.7253, 183.5752, 180.8742, 196.9678, 140.0240]) Cost: 1.632369\n",
            "Epoch   14/20 hypothesis: tensor([152.7606, 183.6184, 180.9164, 197.0138, 140.0571]) Cost: 1.625924\n",
            "Epoch   15/20 hypothesis: tensor([152.7802, 183.6427, 180.9399, 197.0395, 140.0759]) Cost: 1.623420\n",
            "Epoch   16/20 hypothesis: tensor([152.7909, 183.6565, 180.9530, 197.0538, 140.0865]) Cost: 1.622152\n",
            "Epoch   17/20 hypothesis: tensor([152.7968, 183.6643, 180.9603, 197.0618, 140.0927]) Cost: 1.621262\n",
            "Epoch   18/20 hypothesis: tensor([152.7999, 183.6688, 180.9644, 197.0661, 140.0963]) Cost: 1.620501\n",
            "Epoch   19/20 hypothesis: tensor([152.8014, 183.6715, 180.9665, 197.0686, 140.0985]) Cost: 1.619757\n",
            "Epoch   20/20 hypothesis: tensor([152.8020, 183.6731, 180.9677, 197.0699, 140.0999]) Cost: 1.619046\n"
          ]
        }
      ]
    },
    {
      "cell_type": "markdown",
      "source": [
        "## nn.Module\n",
        "\n",
        "- nn.Module을 상속해서 모델 생성\n",
        "\n",
        "- nn.Linear(3, 1)\n",
        "\n",
        "  - 입력 차원 : 3\n",
        "  - 출력 차원 : 1\n",
        "\n",
        "- Hypothesis 계산은 forward() 에서!\n",
        "\n",
        "- Gradient 계산은 PyTorch가 알아서 : backward()"
      ],
      "metadata": {
        "id": "FbVHt_JZ673d"
      }
    },
    {
      "cell_type": "code",
      "source": [
        "# 모델 초기화\n",
        "W = torch.zeros((3, 1), requires_grad = True)\n",
        "b= torch.zeros(1, requires_grad = True)\n",
        "\n",
        "# H(x) 계산\n",
        "hypothesis = x_train.matmul(W) + b # or .mm or @"
      ],
      "metadata": {
        "id": "-zK0K1Ut8O93"
      },
      "execution_count": 15,
      "outputs": []
    },
    {
      "cell_type": "code",
      "source": [
        "class MultivariateLinearRegressionModel(nn.Module):\n",
        "    def __init__(self):\n",
        "        super().__init__()\n",
        "        self.linear = nn.Linear(3, 1)\n",
        "\n",
        "    def forward(self, x):\n",
        "        return self.linear(x)\n",
        "\n",
        "model = MultivariateLinearRegressionModel()"
      ],
      "metadata": {
        "id": "qDqnH4n55a8d"
      },
      "execution_count": 23,
      "outputs": []
    },
    {
      "cell_type": "markdown",
      "source": [
        "## F.mse_loss"
      ],
      "metadata": {
        "id": "idmDWgWy8pxx"
      }
    },
    {
      "cell_type": "markdown",
      "source": [
        "- torch.nn.functional에서 제공하는 loss function 사용\n",
        "\n",
        "- 쉽게 다른 loss와 교체 가능!(l1_loss, smooth_l1_loss 등...)"
      ],
      "metadata": {
        "id": "eYH1RCbG88bB"
      }
    },
    {
      "cell_type": "code",
      "source": [
        "# cost 계산\n",
        "cost = torch.mean((hypothesis - y_train) ** 2)"
      ],
      "metadata": {
        "id": "82pexXpO8lMW"
      },
      "execution_count": 17,
      "outputs": []
    },
    {
      "cell_type": "code",
      "source": [
        "prediction = model(x_train)\n",
        "cost = F.mse_loss(prediction, y_train)"
      ],
      "metadata": {
        "id": "4U4Rcgy88vee"
      },
      "execution_count": 24,
      "outputs": []
    },
    {
      "cell_type": "markdown",
      "source": [
        "## Full Code with torch.optim"
      ],
      "metadata": {
        "id": "WJN9o4YNAN3h"
      }
    },
    {
      "cell_type": "code",
      "source": [
        "x_train = torch.FloatTensor([[73, 80, 75],\n",
        "                             [93, 88, 93],\n",
        "                             [89, 91, 90],\n",
        "                             [96, 98, 100],\n",
        "                             [73, 66, 70]])\n",
        "y_train = torch.FloatTensor([[152], [185], [180], [196], [142]])\n",
        "\n",
        "# 모델 초기화\n",
        "# W = torch.zeros((3, 1), requires_grad = True)\n",
        "# b = torch.zeros(1, requires_grad = True)\n",
        "\n",
        "class MultivariateLinearRegressionModel(nn.Module):\n",
        "    def __init__(self):\n",
        "        super().__init__()\n",
        "        self.linear = nn.Linear(3, 1)\n",
        "\n",
        "    def forward(self, x):\n",
        "        return self.linear(x)\n",
        "model = MultivariateLinearRegressionModel()\n",
        "\n",
        "# optimizer 설정\n",
        "optimizer = optim.SGD([W, b], lr= 1e-5)\n",
        "\n",
        "nb_epochs = 20\n",
        "for epoch in range(nb_epochs + 1):\n",
        "  # H(x) 계산\n",
        "  hypothesis = model(x_train)\n",
        "\n",
        "  # cost 계산\n",
        "  cost = F.mse_loss(hypothesis, y_train)\n",
        "  # cost로 H(x) 개선\n",
        "  optimizer.zero_grad()\n",
        "  cost.backward()\n",
        "  optimizer.step()\n",
        "\n",
        "  print('Epoch {:4d}/{} hypothesis: {} Cost {:.6f}'.format(epoch, nb_epochs,\n",
        "                                                           hypothesis.squeeze().detach(), cost.item()))"
      ],
      "metadata": {
        "colab": {
          "base_uri": "https://localhost:8080/"
        },
        "id": "UZUfHreK8zTq",
        "outputId": "5d9ee606-4a67-48fb-d26c-98751daba0c9"
      },
      "execution_count": 26,
      "outputs": [
        {
          "output_type": "stream",
          "name": "stdout",
          "text": [
            "Epoch    0/20 hypothesis: tensor([50.2635, 62.0156, 60.2688, 65.4965, 47.8591]) Cost 13140.943359\n",
            "Epoch    1/20 hypothesis: tensor([50.2635, 62.0156, 60.2688, 65.4965, 47.8591]) Cost 13140.943359\n",
            "Epoch    2/20 hypothesis: tensor([50.2635, 62.0156, 60.2688, 65.4965, 47.8591]) Cost 13140.943359\n",
            "Epoch    3/20 hypothesis: tensor([50.2635, 62.0156, 60.2688, 65.4965, 47.8591]) Cost 13140.943359\n",
            "Epoch    4/20 hypothesis: tensor([50.2635, 62.0156, 60.2688, 65.4965, 47.8591]) Cost 13140.943359\n",
            "Epoch    5/20 hypothesis: tensor([50.2635, 62.0156, 60.2688, 65.4965, 47.8591]) Cost 13140.943359\n",
            "Epoch    6/20 hypothesis: tensor([50.2635, 62.0156, 60.2688, 65.4965, 47.8591]) Cost 13140.943359\n",
            "Epoch    7/20 hypothesis: tensor([50.2635, 62.0156, 60.2688, 65.4965, 47.8591]) Cost 13140.943359\n",
            "Epoch    8/20 hypothesis: tensor([50.2635, 62.0156, 60.2688, 65.4965, 47.8591]) Cost 13140.943359\n",
            "Epoch    9/20 hypothesis: tensor([50.2635, 62.0156, 60.2688, 65.4965, 47.8591]) Cost 13140.943359\n",
            "Epoch   10/20 hypothesis: tensor([50.2635, 62.0156, 60.2688, 65.4965, 47.8591]) Cost 13140.943359\n",
            "Epoch   11/20 hypothesis: tensor([50.2635, 62.0156, 60.2688, 65.4965, 47.8591]) Cost 13140.943359\n",
            "Epoch   12/20 hypothesis: tensor([50.2635, 62.0156, 60.2688, 65.4965, 47.8591]) Cost 13140.943359\n",
            "Epoch   13/20 hypothesis: tensor([50.2635, 62.0156, 60.2688, 65.4965, 47.8591]) Cost 13140.943359\n",
            "Epoch   14/20 hypothesis: tensor([50.2635, 62.0156, 60.2688, 65.4965, 47.8591]) Cost 13140.943359\n",
            "Epoch   15/20 hypothesis: tensor([50.2635, 62.0156, 60.2688, 65.4965, 47.8591]) Cost 13140.943359\n",
            "Epoch   16/20 hypothesis: tensor([50.2635, 62.0156, 60.2688, 65.4965, 47.8591]) Cost 13140.943359\n",
            "Epoch   17/20 hypothesis: tensor([50.2635, 62.0156, 60.2688, 65.4965, 47.8591]) Cost 13140.943359\n",
            "Epoch   18/20 hypothesis: tensor([50.2635, 62.0156, 60.2688, 65.4965, 47.8591]) Cost 13140.943359\n",
            "Epoch   19/20 hypothesis: tensor([50.2635, 62.0156, 60.2688, 65.4965, 47.8591]) Cost 13140.943359\n",
            "Epoch   20/20 hypothesis: tensor([50.2635, 62.0156, 60.2688, 65.4965, 47.8591]) Cost 13140.943359\n"
          ]
        }
      ]
    }
  ]
}